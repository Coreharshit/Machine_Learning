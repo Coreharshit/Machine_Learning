{
  "nbformat": 4,
  "nbformat_minor": 0,
  "metadata": {
    "colab": {
      "provenance": [],
      "authorship_tag": "ABX9TyOBqlht+Inbx3u71gxp4MuA",
      "include_colab_link": true
    },
    "kernelspec": {
      "name": "python3",
      "display_name": "Python 3"
    },
    "language_info": {
      "name": "python"
    }
  },
  "cells": [
    {
      "cell_type": "markdown",
      "metadata": {
        "id": "view-in-github",
        "colab_type": "text"
      },
      "source": [
        "<a href=\"https://colab.research.google.com/github/Coreharshit/Machine_Learning/blob/main/Day1.ipynb\" target=\"_parent\"><img src=\"https://colab.research.google.com/assets/colab-badge.svg\" alt=\"Open In Colab\"/></a>"
      ]
    },
    {
      "cell_type": "markdown",
      "source": [
        "# **Day - 01 **"
      ],
      "metadata": {
        "id": "f4_AaSFIozK6"
      }
    },
    {
      "cell_type": "markdown",
      "source": [
        "To print information on screen we have used print() function."
      ],
      "metadata": {
        "id": "Eg4IEnlzZJvG"
      }
    },
    {
      "cell_type": "code",
      "execution_count": 1,
      "metadata": {
        "colab": {
          "base_uri": "https://localhost:8080/"
        },
        "id": "jaEqmRIXY7_K",
        "outputId": "a31e5f46-36da-4dfb-ae2d-8555dac60984"
      },
      "outputs": [
        {
          "output_type": "stream",
          "name": "stdout",
          "text": [
            "hello world!\n"
          ]
        }
      ],
      "source": [
        "print(\"hello world!\")"
      ]
    },
    {
      "cell_type": "markdown",
      "source": [
        "**Creating files **"
      ],
      "metadata": {
        "id": "Jp0US2PPZT-i"
      }
    },
    {
      "cell_type": "markdown",
      "source": [
        "Writing in file - if file already exist then it will get overwritten"
      ],
      "metadata": {
        "id": "Xd6Jk9MDaO0f"
      }
    },
    {
      "cell_type": "code",
      "source": [
        "file_path=\"Hwll.txt\"\n",
        "new_file=open(file_path,\"w\")\n",
        "new_file.write(\"hello python\")\n",
        "new_file.close()"
      ],
      "metadata": {
        "id": "W-yNEnTeZX6y"
      },
      "execution_count": 2,
      "outputs": []
    },
    {
      "cell_type": "markdown",
      "source": [
        "Reading in file"
      ],
      "metadata": {
        "id": "cY3bKzOeaR61"
      }
    },
    {
      "cell_type": "code",
      "source": [
        "with open(\"Hwll.txt\",\"r\") as t :\n",
        "  p= t.read()\n",
        "  print(p)"
      ],
      "metadata": {
        "colab": {
          "base_uri": "https://localhost:8080/"
        },
        "id": "a15y-UOnZ-WJ",
        "outputId": "90fef5bd-4e78-4625-cbd9-967752329e56"
      },
      "execution_count": 3,
      "outputs": [
        {
          "output_type": "stream",
          "name": "stdout",
          "text": [
            "hello python\n"
          ]
        }
      ]
    },
    {
      "cell_type": "markdown",
      "source": [
        "Append mode is used to add content at end of file without over writing other text ... \"a\" mode"
      ],
      "metadata": {
        "id": "eGfF4jF_aov7"
      }
    },
    {
      "cell_type": "code",
      "source": [
        "with open(\"Hwll.txt\",\"a\") as t:\n",
        "  t.write(\"\\n added this content\")\n"
      ],
      "metadata": {
        "id": "XkDmcQeIa9Hn"
      },
      "execution_count": 4,
      "outputs": []
    },
    {
      "cell_type": "markdown",
      "source": [
        "Arithmetic expression in python"
      ],
      "metadata": {
        "id": "x5O-8BGdbr8o"
      }
    },
    {
      "cell_type": "code",
      "source": [
        "print(10+5)\n",
        "print(10-5)\n",
        "print(10*5)\n",
        "print(10/5)\n",
        "print(10**5)\n",
        "print(10//5)\n"
      ],
      "metadata": {
        "colab": {
          "base_uri": "https://localhost:8080/"
        },
        "id": "ii3MTXsTbxqP",
        "outputId": "1e6ba402-2a07-4f53-888c-471f7a4f7718"
      },
      "execution_count": 5,
      "outputs": [
        {
          "output_type": "stream",
          "name": "stdout",
          "text": [
            "15\n",
            "5\n",
            "50\n",
            "2.0\n",
            "100000\n",
            "2\n"
          ]
        }
      ]
    },
    {
      "cell_type": "markdown",
      "source": [
        "DataTypes in Python"
      ],
      "metadata": {
        "id": "5wozX2HscO9z"
      }
    },
    {
      "cell_type": "code",
      "source": [
        "num=5\n",
        "flo=3.9\n",
        "text=\"hello\"\n",
        "is_fun=True\n",
        "print(type(num))\n",
        "print(type(flo))\n",
        "print(type(text))\n",
        "print(type(is_fun))"
      ],
      "metadata": {
        "colab": {
          "base_uri": "https://localhost:8080/"
        },
        "id": "pDK6j_oNcTU4",
        "outputId": "4c348f3d-2cf7-4a47-abc2-056cf910b584"
      },
      "execution_count": 6,
      "outputs": [
        {
          "output_type": "stream",
          "name": "stdout",
          "text": [
            "<class 'int'>\n",
            "<class 'float'>\n",
            "<class 'str'>\n",
            "<class 'bool'>\n"
          ]
        }
      ]
    },
    {
      "cell_type": "markdown",
      "source": [
        "implicit conversion - converting one datatype into another datatype without any external involved or user intension it is done automatically.\n",
        "\n",
        "int + float --> float"
      ],
      "metadata": {
        "id": "spl-f_8EcqO6"
      }
    },
    {
      "cell_type": "code",
      "source": [
        "a=10\n",
        "b=5.5\n",
        "print(a+b)"
      ],
      "metadata": {
        "colab": {
          "base_uri": "https://localhost:8080/"
        },
        "id": "7eSDb1TVdAuh",
        "outputId": "6d2be1f2-d1e4-4498-c95d-c4844b02d31f"
      },
      "execution_count": 7,
      "outputs": [
        {
          "output_type": "stream",
          "name": "stdout",
          "text": [
            "15.5\n"
          ]
        }
      ]
    },
    {
      "cell_type": "markdown",
      "source": [
        "explicit conversion- converting one datatype in another datatype by user intension"
      ],
      "metadata": {
        "id": "AQBSn_fzdRRF"
      }
    },
    {
      "cell_type": "code",
      "source": [
        "a=10\n",
        "b=5.5\n",
        "print(a+int(b))"
      ],
      "metadata": {
        "colab": {
          "base_uri": "https://localhost:8080/"
        },
        "id": "hqA4jNd2depW",
        "outputId": "fc87aaa3-7d1b-4615-aece-89e513184fca"
      },
      "execution_count": 8,
      "outputs": [
        {
          "output_type": "stream",
          "name": "stdout",
          "text": [
            "15\n"
          ]
        }
      ]
    },
    {
      "cell_type": "markdown",
      "source": [
        "Arrays using lists"
      ],
      "metadata": {
        "id": "8ln8GyMLdqNx"
      }
    },
    {
      "cell_type": "code",
      "source": [
        "l=[1,2,3,4,5]\n",
        "first_element=l[0]\n",
        "l.append(6)\n",
        "print(l)\n",
        "l.remove(4)\n",
        "print(l)\n",
        "l.extend([7,8,9])\n",
        "print(l)\n",
        "l.pop()\n",
        "print(l)"
      ],
      "metadata": {
        "colab": {
          "base_uri": "https://localhost:8080/"
        },
        "id": "NcwNw18peAom",
        "outputId": "97dc87f7-1b60-4909-f25a-59fb3887def3"
      },
      "execution_count": 10,
      "outputs": [
        {
          "output_type": "stream",
          "name": "stdout",
          "text": [
            "[1, 2, 3, 4, 5, 6]\n",
            "[1, 2, 3, 5, 6]\n",
            "[1, 2, 3, 5, 6, 7, 8, 9]\n",
            "[1, 2, 3, 5, 6, 7, 8]\n"
          ]
        }
      ]
    },
    {
      "cell_type": "markdown",
      "source": [
        "Arrays using numpy"
      ],
      "metadata": {
        "id": "kmWojiKlexTA"
      }
    },
    {
      "cell_type": "code",
      "source": [
        "import numpy as np\n",
        "my_array=np.array([1,2,3,4,5])\n",
        "first_element_np=my_array[0]\n",
        "print(f\"my numpy array if{my_array}\")\n",
        "print(f\"first element : {first_element_np}\")"
      ],
      "metadata": {
        "colab": {
          "base_uri": "https://localhost:8080/"
        },
        "id": "wOXqYR-1e3Tx",
        "outputId": "b4182d74-975d-455a-9858-ae7fed5e003d"
      },
      "execution_count": 11,
      "outputs": [
        {
          "output_type": "stream",
          "name": "stdout",
          "text": [
            "my numpy array if[1 2 3 4 5]\n",
            "first element : 1\n"
          ]
        }
      ]
    },
    {
      "cell_type": "markdown",
      "source": [
        "classes in python"
      ],
      "metadata": {
        "id": "YFeMX81Dfmfh"
      }
    },
    {
      "cell_type": "code",
      "source": [
        "class Dog:\n",
        "  species=\"Canis familiaris\"\n",
        "  def __init__(self,name,age):\n",
        "    self.name=name\n",
        "    self.age=age\n",
        "    def bark(self):\n",
        "      print(\"woof!\")\n",
        "\n",
        "      my_dog = Dog(name=\"buddy\",age=3)\n",
        "      dog_name=my_dog.name\n",
        "      dog_age=my_dog.age\n",
        "      dog_species=my_dog.species\n",
        "      my_dog.bark()\n",
        "      print(f\"name: {dog_name}\")\n",
        "      print(f\"age: {dog_age}\")\n",
        "      print(f\"species: {dog_species}\")\n",
        ""
      ],
      "metadata": {
        "id": "yin7-hPwfpHA"
      },
      "execution_count": 14,
      "outputs": []
    },
    {
      "cell_type": "markdown",
      "source": [
        "if elif else block"
      ],
      "metadata": {
        "id": "RsROR4rqn1xp"
      }
    },
    {
      "cell_type": "code",
      "source": [
        "age=5\n",
        "if age<18:\n",
        "  print('not eligible')\n",
        "elif age==18:\n",
        "  print(\"eligible\")\n",
        "else:\n",
        "  print(\"eligible\")"
      ],
      "metadata": {
        "colab": {
          "base_uri": "https://localhost:8080/"
        },
        "id": "9TyM_ua0nzPE",
        "outputId": "06f7d94b-d83f-44d5-e4bb-de82f5bee6c0"
      },
      "execution_count": 16,
      "outputs": [
        {
          "output_type": "stream",
          "name": "stdout",
          "text": [
            "not eligible\n"
          ]
        }
      ]
    },
    {
      "cell_type": "markdown",
      "source": [
        "while loop"
      ],
      "metadata": {
        "id": "71GGf-REoWbV"
      }
    },
    {
      "cell_type": "code",
      "source": [
        "a=5\n",
        "while(a>0):\n",
        "  print(a)\n",
        "  a-=1"
      ],
      "metadata": {
        "colab": {
          "base_uri": "https://localhost:8080/"
        },
        "id": "o_Xl4EsQoYq-",
        "outputId": "a1ed0865-1aa5-4154-807d-232953c75291"
      },
      "execution_count": 17,
      "outputs": [
        {
          "output_type": "stream",
          "name": "stdout",
          "text": [
            "5\n",
            "4\n",
            "3\n",
            "2\n",
            "1\n"
          ]
        }
      ]
    }
  ]
}